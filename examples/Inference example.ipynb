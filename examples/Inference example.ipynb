{
 "cells": [
  {
   "cell_type": "markdown",
   "id": "06e4b714-df3a-4cdb-bbd3-b842febbb6b2",
   "metadata": {},
   "source": [
    "Detailed description of run configuration could be found [here](../nablaDFT/README.md)."
   ]
  },
  {
   "cell_type": "markdown",
   "id": "d6b7663d-5750-41c8-b433-3f2bdbe9258c",
   "metadata": {},
   "source": [
    "## Test example"
   ]
  },
  {
   "cell_type": "code",
   "execution_count": null,
   "id": "2000a6a4-1e61-495e-b9db-4bd1db4689c0",
   "metadata": {},
   "outputs": [],
   "source": [
    "# model test example config\n",
    "!cat ../config/gemnet-oc_test.yaml"
   ]
  },
  {
   "cell_type": "code",
   "execution_count": null,
   "id": "ed4b204b-f4c8-4993-a5fb-e65ae77ac69c",
   "metadata": {},
   "outputs": [],
   "source": [
    "!python ../run.py --config-name gemnet-oc_test.yaml"
   ]
  },
  {
   "cell_type": "markdown",
   "id": "4d7edabf-4253-4ab7-8fd7-3eeb6c51c220",
   "metadata": {},
   "source": [
    "## Inference on another dataset"
   ]
  },
  {
   "cell_type": "markdown",
   "id": "ffb9d8f6-b4c6-4528-ae2a-0bdc56f8020b",
   "metadata": {},
   "source": [
    "For CLI-run please use example from the root of the repository:\n",
    "```bash\n",
    "python run.py --config-name gemnet-oc_predict.yaml\n",
    "```\n",
    "\n",
    "Detailed description could be found in [README](../nablaDFT/README.md)"
   ]
  },
  {
   "cell_type": "code",
   "execution_count": null,
   "id": "7108dd94-065b-4436-a11f-7afe70f1e943",
   "metadata": {},
   "outputs": [],
   "source": [
    "import os\n",
    "\n",
    "import hydra\n",
    "from omegaconf import OmegaConf\n",
    "import torch\n",
    "import pytorch_lightning as pl\n",
    "\n",
    "from nablaDFT.gemnet_oc import GemNetOCLightning\n",
    "from nablaDFT.dataset import PyGNablaDFTDataModule"
   ]
  },
  {
   "cell_type": "markdown",
   "id": "109f9ba4-b94d-4f4d-a1e7-53d825dfca7e",
   "metadata": {},
   "source": [
    "### Paths and args"
   ]
  },
  {
   "cell_type": "code",
   "execution_count": null,
   "id": "6a1483ab-8614-466c-8bea-d9ae91fa8b1c",
   "metadata": {},
   "outputs": [],
   "source": [
    "model_cfg_path = \"../config/model/gemnet-oc.yaml\"\n",
    "ckpt_path = \"../checkpoints/GemNet-OC/GemNet-OC_100k.ckpt\"\n",
    "tb_logs = \"./logs\"\n",
    "predictions_dir = \"./predictions\"\n",
    "devices = 1\n",
    "\n",
    "data_args = {\n",
    "    \"root\": \"../datasets/nablaDFT/test\",\n",
    "    \"dataset_name\": \"test_4k_mff_traj_part\",\n",
    "    \"batch_size\": 4,\n",
    "    \"num_workers\": 2,\n",
    "}"
   ]
  },
  {
   "cell_type": "markdown",
   "id": "b9e362a9-ea34-40eb-857b-e25731f11a44",
   "metadata": {},
   "source": [
    "### Instantiate dataset and load model"
   ]
  },
  {
   "cell_type": "code",
   "execution_count": null,
   "id": "3be63556-0779-4a11-86e5-9b388ba06131",
   "metadata": {},
   "outputs": [],
   "source": [
    "cfg = OmegaConf.load(model_cfg_path)\n",
    "model = hydra.utils.instantiate(cfg)\n",
    "model.load_state_dict(torch.load(ckpt_path)['state_dict'])\n",
    "datamodule = PyGNablaDFTDataModule(**data_args)"
   ]
  },
  {
   "cell_type": "code",
   "execution_count": null,
   "id": "ffb33fce-2935-49e0-8ad5-d57cb5ca2e5f",
   "metadata": {},
   "outputs": [],
   "source": [
    "os.makedirs(predictions_dir, exist_ok=True)\n",
    "pred_path = os.path.join(predictions_dir, \"gemnet_preds.pt\")"
   ]
  },
  {
   "cell_type": "code",
   "execution_count": null,
   "id": "0e10a5a0-42ba-4dfc-b31d-2b4e959aaa7a",
   "metadata": {},
   "outputs": [],
   "source": [
    "trainer = pl.Trainer(\n",
    "    accelerator='gpu',\n",
    "    devices=devices\n",
    ")\n",
    "trainer.logger = False"
   ]
  },
  {
   "cell_type": "code",
   "execution_count": null,
   "id": "fa173b92-9a37-4f65-abab-6f96285876a6",
   "metadata": {},
   "outputs": [],
   "source": [
    "predictions = trainer.predict(model=model, datamodule=datamodule, ckpt_path=ckpt_path)"
   ]
  },
  {
   "cell_type": "code",
   "execution_count": null,
   "id": "3d1625f7-3523-4e46-b7f5-c0af6573aea6",
   "metadata": {},
   "outputs": [],
   "source": [
    "# access to predictions\n",
    "batch_preds = predictions[0]\n",
    "energy, forces = batch_preds[0], batch_preds[1] # [bs], [natoms in batch, 3]"
   ]
  },
  {
   "cell_type": "code",
   "execution_count": null,
   "id": "2bb7ea4b-d2ce-42a3-a9fc-73209417d12a",
   "metadata": {},
   "outputs": [],
   "source": []
  }
 ],
 "metadata": {
  "kernelspec": {
   "display_name": "Python 3 (ipykernel)",
   "language": "python",
   "name": "python3"
  },
  "language_info": {
   "codemirror_mode": {
    "name": "ipython",
    "version": 3
   },
   "file_extension": ".py",
   "mimetype": "text/x-python",
   "name": "python",
   "nbconvert_exporter": "python",
   "pygments_lexer": "ipython3",
   "version": "3.9.18"
  }
 },
 "nbformat": 4,
 "nbformat_minor": 5
}
