{
 "cells": [
  {
   "cell_type": "markdown",
   "id": "0092f13a-8243-4bdb-8175-7fb94f6b0630",
   "metadata": {},
   "source": [
    "## Single Molecule Optimization"
   ]
  },
  {
   "cell_type": "code",
   "execution_count": null,
   "id": "4fcaa7c4-4a96-4dea-b87b-a6e88449f902",
   "metadata": {},
   "outputs": [],
   "source": [
    "!pip install nglview ipywidgets --quiet"
   ]
  },
  {
   "cell_type": "code",
   "execution_count": null,
   "id": "1ff08c8f-6ac3-4898-ba20-647c1640e15c",
   "metadata": {},
   "outputs": [],
   "source": [
    "import torch\n",
    "from omegaconf import OmegaConf\n",
    "from nablaDFT.optimization import PYGAseInterface"
   ]
  },
  {
   "cell_type": "code",
   "execution_count": null,
   "id": "0ad25a3a-d1e9-403a-ba94-9b1e91dbb0f1",
   "metadata": {},
   "outputs": [],
   "source": [
    "molecule_path = \"./moses_7570.xyz\"\n",
    "ckpt_path = \"../checkpoints/GemNet-OC/GemNet-OC_100k.ckpt\"\n",
    "workdir = \"./optimize\"\n",
    "model_cfg = OmegaConf.create(\n",
    "    {\n",
    "        \"model\": OmegaConf.load(\"../config/model/gemnet-oc.yaml\")\n",
    "    }\n",
    ")"
   ]
  },
  {
   "cell_type": "code",
   "execution_count": null,
   "id": "1e76d190-867b-4592-b825-b5017e35eb0d",
   "metadata": {},
   "outputs": [],
   "source": [
    "optimizer = PYGAseInterface(\n",
    "    molecule_path=molecule_path,\n",
    "    working_dir=workdir,\n",
    "    config=model_cfg,\n",
    "    ckpt_path=ckpt_path,\n",
    "    energy_key=\"energy\",\n",
    "    force_key=\"forces\",\n",
    "    energy_unit=\"eV\",\n",
    "    position_unit=\"Ang\",\n",
    "    device=\"cuda:0\",\n",
    "    dtype=torch.float32,\n",
    ")"
   ]
  },
  {
   "cell_type": "code",
   "execution_count": null,
   "id": "5bd6a4db-346b-41fb-b7cc-5cbe1798ee84",
   "metadata": {},
   "outputs": [],
   "source": [
    "optimizer.optimize(fmax=1e-4, steps=100)"
   ]
  },
  {
   "cell_type": "markdown",
   "id": "111d06ac-75ef-46f3-a109-0565def308f7",
   "metadata": {},
   "source": [
    "### Visualize"
   ]
  },
  {
   "cell_type": "code",
   "execution_count": null,
   "id": "d4f2cc01-dac8-485c-a966-fc04d49430b5",
   "metadata": {},
   "outputs": [],
   "source": [
    "from ase.io.trajectory import Trajectory\n",
    "from nglview import show_asetraj"
   ]
  },
  {
   "cell_type": "markdown",
   "id": "8967c909-aef1-4217-984e-a07843dfa09c",
   "metadata": {},
   "source": [
    "traj = Trajectory(\"./optimize/optimization.traj\")\n",
    "view = show_asetraj(traj)"
   ]
  }
 ],
 "metadata": {
  "kernelspec": {
   "display_name": "Python 3 (ipykernel)",
   "language": "python",
   "name": "python3"
  },
  "language_info": {
   "codemirror_mode": {
    "name": "ipython",
    "version": 3
   },
   "file_extension": ".py",
   "mimetype": "text/x-python",
   "name": "python",
   "nbconvert_exporter": "python",
   "pygments_lexer": "ipython3",
   "version": "3.9.18"
  }
 },
 "nbformat": 4,
 "nbformat_minor": 5
}
