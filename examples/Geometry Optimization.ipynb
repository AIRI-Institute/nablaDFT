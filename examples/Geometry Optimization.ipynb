{
 "cells": [
  {
   "cell_type": "code",
   "execution_count": null,
   "id": "4fcaa7c4-4a96-4dea-b87b-a6e88449f902",
   "metadata": {},
   "outputs": [],
   "source": [
    "!pip install nglview ipywidgets --quiet"
   ]
  },
  {
   "cell_type": "code",
   "execution_count": 4,
   "id": "1ff08c8f-6ac3-4898-ba20-647c1640e15c",
   "metadata": {},
   "outputs": [],
   "source": [
    "import torch\n",
    "from omegaconf import OmegaConf\n",
    "from nablaDFT.optimization import PYGAseInterface"
   ]
  },
  {
   "cell_type": "code",
   "execution_count": 59,
   "id": "0ad25a3a-d1e9-403a-ba94-9b1e91dbb0f1",
   "metadata": {},
   "outputs": [],
   "source": [
    "molecule_path = \"./moses_7570.xyz\"\n",
    "ckpt_path = \"../checkpoints/GemNet-OC/GemNet-OC_100k.ckpt\"\n",
    "workdir = \"./optimize\"\n",
    "model_cfg = OmegaConf.create(\n",
    "    {\n",
    "        \"model\": OmegaConf.load(\"../config/model/gemnet-oc.yaml\")\n",
    "    }\n",
    ")"
   ]
  },
  {
   "cell_type": "code",
   "execution_count": 60,
   "id": "1e76d190-867b-4592-b825-b5017e35eb0d",
   "metadata": {},
   "outputs": [
    {
     "name": "stderr",
     "output_type": "stream",
     "text": [
      "INFO:nablaDFT.optimization.pyg_ase_interface:Loading model from ../checkpoints/GemNet-OC/GemNet-OC_100k.ckpt\n",
      "/mnt/2tb/ber/miniconda3/envs/nablaDFT/lib/python3.9/site-packages/pytorch_lightning/utilities/parsing.py:198: Attribute 'metric' is an instance of `nn.Module` and is already saved during checkpointing. It is recommended to ignore them using `self.save_hyperparameters(ignore=['metric'])`.\n",
      "INFO:root:Restore model weights from ../checkpoints/GemNet-OC/GemNet-OC_100k.ckpt\n"
     ]
    }
   ],
   "source": [
    "optimizer = PYGAseInterface(\n",
    "    molecule_path=molecule_path,\n",
    "    working_dir=workdir,\n",
    "    config=model_cfg,\n",
    "    ckpt_path=ckpt_path,\n",
    "    energy_key=\"energy\",\n",
    "    force_key=\"forces\",\n",
    "    energy_unit=\"eV\",\n",
    "    position_unit=\"Ang\",\n",
    "    device=\"cuda:0\",\n",
    "    dtype=torch.float32,\n",
    ")"
   ]
  },
  {
   "cell_type": "code",
   "execution_count": 61,
   "id": "5bd6a4db-346b-41fb-b7cc-5cbe1798ee84",
   "metadata": {},
   "outputs": [
    {
     "name": "stdout",
     "output_type": "stream",
     "text": [
      "                Step[ FC]     Time          Energy          fmax\n",
      "BFGSLineSearch:    0[  0] 14:00:28       -5.322232        0.1936\n",
      "BFGSLineSearch:    1[  3] 14:00:29       -5.359284        0.1254\n",
      "BFGSLineSearch:    2[  8] 14:00:30       -5.364477        0.0777\n",
      "BFGSLineSearch:    3[ 42] 14:00:39       -5.365033        0.0655\n",
      "BFGSLineSearch:    4[ 64] 14:00:45       -5.365070        0.0558\n",
      "BFGSLineSearch:    5[ 80] 14:00:49       -5.365069        0.0558\n",
      "BFGSLineSearch:    6[110] 14:00:57       -5.365223        0.0424\n",
      "BFGSLineSearch:    7[126] 14:01:01       -5.365287        0.0307\n",
      "BFGSLineSearch:    8[148] 14:01:06       -5.365572        0.0285\n",
      "BFGSLineSearch:    9[176] 14:01:14       -5.365817        0.0263\n",
      "BFGSLineSearch:   10[195] 14:01:18       -5.366064        0.0279\n",
      "BFGSLineSearch:   11[213] 14:01:23       -5.366118        0.0395\n",
      "BFGSLineSearch:   12[216] 14:01:23       -5.367243        0.0452\n",
      "BFGSLineSearch:   13[218] 14:01:24       -5.372262        0.0454\n",
      "BFGSLineSearch:   14[220] 14:01:24       -5.381037        0.0402\n",
      "BFGSLineSearch:   15[222] 14:01:25       -5.382722        0.0383\n",
      "BFGSLineSearch:   16[246] 14:01:29       -5.382722        0.0383\n",
      "BFGSLineSearch:   17[280] 14:01:37       -5.383025        0.0309\n",
      "BFGSLineSearch:   18[304] 14:01:44       -5.383360        0.0233\n",
      "BFGSLineSearch:   19[316] 14:01:47       -5.383545        0.0292\n",
      "BFGSLineSearch:   20[318] 14:01:47       -5.385494        0.0343\n",
      "BFGSLineSearch:   21[320] 14:01:48       -5.389600        0.0276\n",
      "BFGSLineSearch:   22[321] 14:01:48       -5.390594        0.0212\n",
      "BFGSLineSearch:   23[324] 14:01:49       -5.391222        0.0301\n",
      "BFGSLineSearch:   24[328] 14:01:50       -5.391574        0.0231\n",
      "BFGSLineSearch:   25[330] 14:01:51       -5.393012        0.0266\n",
      "BFGSLineSearch:   26[332] 14:01:51       -5.397285        0.0320\n",
      "BFGSLineSearch:   27[334] 14:01:52       -5.398275        0.0306\n",
      "BFGSLineSearch:   28[335] 14:01:52       -5.398641        0.0257\n",
      "BFGSLineSearch:   29[338] 14:01:53       -5.399378        0.0306\n",
      "BFGSLineSearch:   30[340] 14:01:53       -5.401363        0.0381\n",
      "BFGSLineSearch:   31[344] 14:01:54       -5.401621        0.0223\n",
      "BFGSLineSearch:   32[366] 14:02:00       -5.401633        0.0188\n",
      "BFGSLineSearch:   33[382] 14:02:04       -5.401633        0.0188\n",
      "BFGSLineSearch:   34[397] 14:02:07       -5.401633        0.0188\n",
      "BFGSLineSearch:   35[423] 14:02:12       -5.401633        0.0188\n",
      "BFGSLineSearch:   36[446] 14:02:17       -5.401632        0.0188\n",
      "BFGSLineSearch:   37[462] 14:02:21       -5.401633        0.0187\n",
      "BFGSLineSearch:   38[475] 14:02:24       -5.401632        0.0187\n",
      "BFGSLineSearch:   39[496] 14:02:30       -5.401646        0.0171\n",
      "BFGSLineSearch:   40[515] 14:02:34       -5.401647        0.0163\n",
      "BFGSLineSearch:   41[550] 14:02:42       -5.401651        0.0156\n",
      "BFGSLineSearch:   42[576] 14:02:49       -5.401660        0.0137\n",
      "BFGSLineSearch:   43[600] 14:02:55       -5.401664        0.0130\n",
      "BFGSLineSearch:   44[623] 14:03:01       -5.401667        0.0123\n",
      "BFGSLineSearch:   45[643] 14:03:06       -5.401679        0.0118\n",
      "BFGSLineSearch:   46[660] 14:03:10       -5.401679        0.0118\n",
      "BFGSLineSearch:   47[680] 14:03:15       -5.401683        0.0117\n",
      "BFGSLineSearch:   48[693] 14:03:18       -5.401684        0.0118\n",
      "BFGSLineSearch:   49[714] 14:03:23       -5.401684        0.0118\n",
      "BFGSLineSearch:   50[731] 14:03:26       -5.401692        0.0119\n",
      "BFGSLineSearch:   51[751] 14:03:31       -5.401699        0.0120\n",
      "BFGSLineSearch:   52[785] 14:03:38       -5.401721        0.0126\n",
      "BFGSLineSearch:   53[798] 14:03:41       -5.401741        0.0144\n",
      "BFGSLineSearch:   54[816] 14:03:46       -5.401779        0.0168\n",
      "BFGSLineSearch:   55[825] 14:03:48       -5.401892        0.0202\n",
      "BFGSLineSearch:   56[827] 14:03:49       -5.402525        0.0224\n",
      "BFGSLineSearch:   57[828] 14:03:49       -5.403875        0.0142\n",
      "BFGSLineSearch:   58[829] 14:03:49       -5.406319        0.0224\n",
      "BFGSLineSearch:   59[830] 14:03:50       -5.406549        0.0106\n",
      "BFGSLineSearch:   60[836] 14:03:51       -5.406661        0.0096\n",
      "BFGSLineSearch:   61[838] 14:03:52       -5.407088        0.0278\n",
      "BFGSLineSearch:   62[840] 14:03:52       -5.407212        0.0121\n",
      "BFGSLineSearch:   63[856] 14:03:56       -5.407212        0.0121\n",
      "BFGSLineSearch:   64[871] 14:04:00       -5.407212        0.0121\n",
      "BFGSLineSearch:   65[884] 14:04:03       -5.407212        0.0121\n",
      "BFGSLineSearch:   66[892] 14:04:05       -5.407213        0.0121\n",
      "BFGSLineSearch:   67[900] 14:04:07       -5.407212        0.0121\n",
      "BFGSLineSearch:   68[908] 14:04:09       -5.407212        0.0121\n",
      "BFGSLineSearch:   69[926] 14:04:13       -5.407212        0.0121\n",
      "BFGSLineSearch:   70[941] 14:04:17       -5.407212        0.0121\n",
      "BFGSLineSearch:   71[961] 14:04:22       -5.407212        0.0121\n",
      "BFGSLineSearch:   72[979] 14:04:26       -5.407317        0.0066\n",
      "BFGSLineSearch:   73[992] 14:04:30       -5.407317        0.0066\n",
      "BFGSLineSearch:   74[993] 14:04:30       -5.407405        0.0100\n",
      "BFGSLineSearch:   75[995] 14:04:31       -5.407798        0.0146\n",
      "BFGSLineSearch:   76[997] 14:04:31       -5.408774        0.0101\n",
      "BFGSLineSearch:   77[1014] 14:04:35       -5.408774        0.0101\n",
      "BFGSLineSearch:   78[1015] 14:04:36       -5.408917        0.0095\n",
      "BFGSLineSearch:   79[1017] 14:04:36       -5.409587        0.0106\n",
      "BFGSLineSearch:   80[1019] 14:04:36       -5.410518        0.0071\n",
      "BFGSLineSearch:   81[1031] 14:04:39       -5.410517        0.0071\n",
      "BFGSLineSearch:   82[1054] 14:04:44       -5.410518        0.0071\n",
      "BFGSLineSearch:   83[1081] 14:04:50       -5.410518        0.0071\n",
      "BFGSLineSearch:   84[1097] 14:04:54       -5.410518        0.0071\n",
      "BFGSLineSearch:   85[1111] 14:04:57       -5.410518        0.0071\n",
      "BFGSLineSearch:   86[1129] 14:05:02       -5.410518        0.0071\n",
      "BFGSLineSearch:   87[1144] 14:05:06       -5.410517        0.0071\n",
      "BFGSLineSearch:   88[1152] 14:05:08       -5.410517        0.0071\n",
      "BFGSLineSearch:   89[1195] 14:05:16       -5.410516        0.0071\n",
      "BFGSLineSearch:   90[1232] 14:05:23       -5.410517        0.0071\n",
      "BFGSLineSearch:   91[1245] 14:05:27       -5.410517        0.0071\n",
      "BFGSLineSearch:   92[1254] 14:05:29       -5.410516        0.0071\n",
      "BFGSLineSearch:   93[1270] 14:05:34       -5.410517        0.0071\n",
      "BFGSLineSearch:   94[1284] 14:05:37       -5.410516        0.0071\n",
      "BFGSLineSearch:   95[1301] 14:05:41       -5.410516        0.0071\n",
      "BFGSLineSearch:   96[1314] 14:05:45       -5.410516        0.0070\n",
      "BFGSLineSearch:   97[1327] 14:05:48       -5.410516        0.0070\n",
      "BFGSLineSearch:   98[1343] 14:05:52       -5.410516        0.0070\n",
      "BFGSLineSearch:   99[1356] 14:05:55       -5.410516        0.0070\n",
      "BFGSLineSearch:  100[1374] 14:06:00       -5.410515        0.0070\n"
     ]
    },
    {
     "name": "stderr",
     "output_type": "stream",
     "text": [
      "INFO:nablaDFT.optimization.pyg_ase_interface:Save molecule in optimization\n"
     ]
    }
   ],
   "source": [
    "optimizer.optimize(fmax=1e-4, steps=100)"
   ]
  },
  {
   "cell_type": "markdown",
   "id": "111d06ac-75ef-46f3-a109-0565def308f7",
   "metadata": {},
   "source": [
    "## Visualize"
   ]
  },
  {
   "cell_type": "code",
   "execution_count": 65,
   "id": "d4f2cc01-dac8-485c-a966-fc04d49430b5",
   "metadata": {},
   "outputs": [],
   "source": [
    "from ase.io.trajectory import Trajectory\n",
    "from nglview import show_asetraj"
   ]
  },
  {
   "cell_type": "code",
   "execution_count": 66,
   "id": "7f051627-745e-48b8-b679-7e0373a8e011",
   "metadata": {},
   "outputs": [
    {
     "data": {
      "application/vnd.jupyter.widget-view+json": {
       "model_id": "1b742e7deeb941a4b320594a713b6b38",
       "version_major": 2,
       "version_minor": 0
      },
      "text/plain": [
       "NGLWidget(max_frame=100)"
      ]
     },
     "metadata": {},
     "output_type": "display_data"
    }
   ],
   "source": [
    "traj = Trajectory(\"./optimize/optimization.traj\")\n",
    "show_asetraj(traj)"
   ]
  },
  {
   "cell_type": "code",
   "execution_count": null,
   "id": "86a2ac9a-96f1-4c33-b5cf-b33522b068aa",
   "metadata": {},
   "outputs": [],
   "source": []
  },
  {
   "cell_type": "code",
   "execution_count": null,
   "id": "3ead0673-d09c-426e-8b5e-44e672d410af",
   "metadata": {},
   "outputs": [],
   "source": []
  }
 ],
 "metadata": {
  "kernelspec": {
   "display_name": "Python 3 (ipykernel)",
   "language": "python",
   "name": "python3"
  },
  "language_info": {
   "codemirror_mode": {
    "name": "ipython",
    "version": 3
   },
   "file_extension": ".py",
   "mimetype": "text/x-python",
   "name": "python",
   "nbconvert_exporter": "python",
   "pygments_lexer": "ipython3",
   "version": "3.9.18"
  }
 },
 "nbformat": 4,
 "nbformat_minor": 5
}
