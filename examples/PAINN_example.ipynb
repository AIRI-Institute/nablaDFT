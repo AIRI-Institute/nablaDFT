{
 "cells": [
  {
   "cell_type": "markdown",
   "id": "94577b80-1b93-4324-a9bd-a682364b9703",
   "metadata": {},
   "source": [
    "This is an example of train and test pipeline for PaiNN model from schnetpack library.  \n",
    "Same task could be performed with pre-defined config from repository root:\n",
    "```bash\n",
    "python run.py --config-name painn.yaml\n",
    "```\n",
    "For detailed description please refer to [README](../nablaDFT/README.md).\n"
   ]
  },
  {
   "cell_type": "markdown",
   "id": "d6f3864e",
   "metadata": {
    "tags": []
   },
   "source": [
    "# Train/test cycles example using PaiNN"
   ]
  },
  {
   "cell_type": "code",
   "execution_count": null,
   "id": "2c4edcbb",
   "metadata": {},
   "outputs": [],
   "source": [
    "# Based on https://github.com/atomistic-machine-learning/schnetpack/blob/master/examples/tutorials/tutorial_02_qm9.ipynb\n",
    "import os\n",
    "from tqdm import tqdm\n",
    "\n",
    "import pytorch_lightning as pl\n",
    "from pytorch_lightning.callbacks import LearningRateMonitor, ModelCheckpoint\n",
    "\n",
    "import schnetpack as spk\n",
    "import schnetpack.representation as rep\n",
    "import schnetpack.task as task\n",
    "import schnetpack.transform as trn\n",
    "\n",
    "import torch\n",
    "import torchmetrics\n",
    "from torch.optim.lr_scheduler import ReduceLROnPlateau\n",
    "\n",
    "from nablaDFT.dataset import ASENablaDFT\n",
    "from nablaDFT.dataset.split import TestSplit\n",
    "from nablaDFT.ase_model import AtomisticTaskFixed\n",
    "from nablaDFT.utils import seed_everything"
   ]
  },
  {
   "cell_type": "code",
   "execution_count": null,
   "id": "7a01bf1a",
   "metadata": {},
   "outputs": [],
   "source": [
    "dataset_name = 'dataset_train_2k'  # Name of the training dataset\n",
    "datapath = 'database'              # Path to the selected dataset\n",
    "logspath = 'logs'                  # Path to log files\n",
    "nepochs = 200                      # Number of epochs to train for\n",
    "seed = 1799                        # Random seed number for reproducibility\n",
    "batch_size = 32                    # Size of each batch for training\n",
    "train_ratio = 0.9                  # Part of dataset used for training\n",
    "val_ratio = 0.1                    # Part of dataset used for validation\n",
    "n_interactions = 6                 # Number of interactions to consider between atoms\n",
    "n_atom_basis = 128                 # Number of basis functions for atoms in the representation\n",
    "n_rbf = 20                         # Number of radial basis functions in the representation\n",
    "cutoff = 5.0                       # Cutoff distance (in Bohr) for computing interactions\n",
    "devices = 1                        # Number of GPU/TPU/CPU devices to use for training\n",
    "transforms = [\n",
    "    trn.ASENeighborList(cutoff=cutoff),\n",
    "    trn.RemoveOffsets(\"energy\", remove_mean=True, remove_atomrefs=False),\n",
    "    trn.CastTo32(),\n",
    "]                                  # data transforms used for training and validation"
   ]
  },
  {
   "cell_type": "markdown",
   "id": "6498b248",
   "metadata": {},
   "source": [
    "## Downloading dataset"
   ]
  },
  {
   "cell_type": "code",
   "execution_count": null,
   "id": "5a822721",
   "metadata": {},
   "outputs": [],
   "source": [
    "seed_everything(seed)\n",
    "workpath = logspath\n",
    "\n",
    "if not os.path.exists(workpath):\n",
    "    os.makedirs(workpath)\n",
    "\n",
    "datamodule = ASENablaDFT(\n",
    "    \"train\",\n",
    "    dataset_name=\"dataset_train_2k\",\n",
    "    datapath=\"database\",\n",
    "    data_workdir=logspath,\n",
    "    batch_size=batch_size,\n",
    "    train_ratio=train_ratio,\n",
    "    val_ratio=val_ratio,\n",
    "    num_workers=4,\n",
    "    train_transforms=transforms,\n",
    "    val_transforms=transforms\n",
    ")"
   ]
  },
  {
   "cell_type": "markdown",
   "id": "b208fcef",
   "metadata": {
    "tags": []
   },
   "source": [
    "## Initializing training procedure and starting training"
   ]
  },
  {
   "cell_type": "code",
   "execution_count": null,
   "id": "028a4f5e",
   "metadata": {},
   "outputs": [],
   "source": [
    "pairwise_distance = spk.atomistic.PairwiseDistances()\n",
    "radial_basis = spk.nn.radial.GaussianRBF(\n",
    "    n_rbf=n_rbf,\n",
    "    cutoff=cutoff\n",
    ")\n",
    "cutoff_fn = spk.nn.cutoff.CosineCutoff(cutoff)\n",
    "representation = rep.PaiNN(\n",
    "    n_interactions=n_interactions,\n",
    "    n_atom_basis=n_atom_basis,\n",
    "    radial_basis=radial_basis,\n",
    "    cutoff_fn=cutoff_fn\n",
    ")\n",
    "pred_energy = spk.atomistic.Atomwise(\n",
    "    n_in=representation.n_atom_basis,\n",
    "    output_key=\"energy\"\n",
    ")\n",
    "pred_forces = spk.atomistic.Forces()\n",
    "postprocessors = [\n",
    "    trn.AddOffsets(\"energy\", add_mean=True)\n",
    "]\n",
    "nnpot = spk.model.NeuralNetworkPotential(\n",
    "    representation=representation,\n",
    "    input_modules=[pairwise_distance],\n",
    "    output_modules=[pred_energy, pred_forces],\n",
    "    postprocessors=postprocessors\n",
    ")\n",
    "output_energy = spk.task.ModelOutput(\n",
    "    name=\"energy\",\n",
    "    loss_fn=torch.nn.MSELoss(),\n",
    "    loss_weight=1,\n",
    "    metrics={\"MAE\": torchmetrics.MeanAbsoluteError()}\n",
    ")\n",
    "output_forces = spk.task.ModelOutput(\n",
    "    name=\"forces\",\n",
    "    loss_fn=torch.nn.MSELoss(),\n",
    "    loss_weight=1,\n",
    "    metrics={\"MAE\": torchmetrics.MeanAbsoluteError()}\n",
    ")\n",
    "\n",
    "scheduler_args = {\n",
    "    \"factor\": 0.8,\n",
    "    \"patience\": 10,\n",
    "    \"min_lr\": 1e-06\n",
    "}\n",
    "\n",
    "task = AtomisticTaskFixed(\n",
    "    model_name=\"PaiNN\",\n",
    "    model=nnpot,\n",
    "    outputs=[output_energy, output_forces],\n",
    "    optimizer_cls=torch.optim.AdamW,\n",
    "    optimizer_args={\"lr\": 1e-4},\n",
    "    scheduler_cls=ReduceLROnPlateau,\n",
    "    scheduler_args=scheduler_args,\n",
    "    scheduler_monitor=\"val_loss\"\n",
    ")\n",
    "\n",
    "# create trainer\n",
    "logger = pl.loggers.TensorBoardLogger(save_dir=workpath)\n",
    "lr_monitor = LearningRateMonitor(logging_interval='step')\n",
    "checkpoint_callback = ModelCheckpoint(\n",
    "    save_top_k=1,\n",
    "    monitor=\"val_loss\",\n",
    "    mode=\"min\",\n",
    "    dirpath=f\"{workpath}/checkpoints\",\n",
    "    filename=\"Painn-{epoch:03d}_{val_loss:4f}\"\n",
    ")\n",
    "callbacks = [\n",
    "    lr_monitor,\n",
    "    checkpoint_callback\n",
    "]\n",
    "\n",
    "trainer = pl.Trainer(\n",
    "    accelerator='gpu',\n",
    "    devices=devices,\n",
    "    callbacks=callbacks,\n",
    "    logger=logger,\n",
    "    default_root_dir=workpath,\n",
    "    max_epochs=nepochs,\n",
    ")\n",
    "\n",
    "trainer.fit(task, datamodule=datamodule)"
   ]
  },
  {
   "cell_type": "code",
   "execution_count": null,
   "id": "e3e51125-0334-4db5-9774-14b2c84bc2f5",
   "metadata": {},
   "outputs": [],
   "source": [
    "ckpt_path = trainer.checkpoint_callback.best_model_path"
   ]
  },
  {
   "cell_type": "markdown",
   "id": "054f30f4",
   "metadata": {},
   "source": [
    "## Initializing the testing procedure and computing the metric's result"
   ]
  },
  {
   "cell_type": "code",
   "execution_count": null,
   "id": "2cfe5514",
   "metadata": {},
   "outputs": [],
   "source": [
    "batch_size = 100\n",
    "cutoff = 5.0\n",
    "gpu = 0\n",
    "\n",
    "if gpu == -1:\n",
    "    device = torch.device(\"cpu\")\n",
    "else:\n",
    "    device = torch.device(f\"cuda:{gpu}\")\n",
    "\n",
    "datamodule_test = ASENablaDFT(\n",
    "    \"test\",\n",
    "    dataset_name=\"dataset_test_conformations_2k\",\n",
    "    datapath=\"database_test\",\n",
    "    data_workdir=logspath,\n",
    "    batch_size=batch_size,\n",
    "    train_ratio=0.0,\n",
    "    val_ratio=0.0,\n",
    "    test_ratio=1.0,\n",
    "    num_workers=4,\n",
    "    test_transforms=[\n",
    "        trn.ASENeighborList(cutoff=cutoff),\n",
    "        trn.CastTo32()\n",
    "    ],\n",
    "    splitting=TestSplit()\n",
    ")\n",
    "\n",
    "trainer = pl.Trainer(\n",
    "    accelerator='gpu',\n",
    "    devices=devices,\n",
    "    default_root_dir=workpath,\n",
    "    inference_mode=False\n",
    ")\n",
    "\n",
    "trainer.test(model=task, datamodule=datamodule_test, ckpt_path=ckpt_path)"
   ]
  }
 ],
 "metadata": {
  "kernelspec": {
   "display_name": "Python 3 (ipykernel)",
   "language": "python",
   "name": "python3"
  },
  "language_info": {
   "codemirror_mode": {
    "name": "ipython",
    "version": 3
   },
   "file_extension": ".py",
   "mimetype": "text/x-python",
   "name": "python",
   "nbconvert_exporter": "python",
   "pygments_lexer": "ipython3",
   "version": "3.9.18"
  }
 },
 "nbformat": 4,
 "nbformat_minor": 5
}
