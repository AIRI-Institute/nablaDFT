{
 "cells": [
  {
   "cell_type": "code",
   "execution_count": 3,
   "id": "9f803d4c-4939-4769-9c44-6636c11faacd",
   "metadata": {},
   "outputs": [
    {
     "name": "stdout",
     "output_type": "stream",
     "text": [
      "Automatic pdb calling has been turned ON\n"
     ]
    }
   ],
   "source": [
    "%pdb"
   ]
  },
  {
   "cell_type": "code",
   "execution_count": 8,
   "id": "cd20aa67-8388-4ac1-bcab-91ae95a305e3",
   "metadata": {},
   "outputs": [],
   "source": [
    "from nablaDFT.data import EnergyDatabase, SQLite3Database, PyGDataset\n",
    "from nablaDFT.data._metadata import DatasourceCard\n",
    "import numpy as np\n",
    "from torch.utils.data import DataLoader"
   ]
  },
  {
   "cell_type": "code",
   "execution_count": 16,
   "id": "7937fc13-c4f3-4a50-a15c-b8cc09ce4508",
   "metadata": {},
   "outputs": [],
   "source": [
    "ENERGY_PATH = \"train_2k_v2_formation_energy_w_forces.db\"\n",
    "HAMILTONIAN_PATH = \"test_2k_conformers.db\""
   ]
  },
  {
   "cell_type": "code",
   "execution_count": 51,
   "id": "5779cf63-aff8-4571-b134-30468d6ab974",
   "metadata": {},
   "outputs": [],
   "source": [
    "meta = DatasourceCard.from_json(\"./nablaDFT/data/_metadata/nabla_hamiltonian.json\")\n",
    "#meta._keys_map = {}"
   ]
  },
  {
   "cell_type": "code",
   "execution_count": 52,
   "id": "17d98118-4c2d-479d-9e9a-fe2d154ec4ba",
   "metadata": {},
   "outputs": [
    {
     "name": "stderr",
     "output_type": "stream",
     "text": [
      "INFO:nablaDFT.data.datasource:Created new database: test_2k_conformers.db\n"
     ]
    }
   ],
   "source": [
    "datasource = SQLite3Database(HAMILTONIAN_PATH, meta)"
   ]
  },
  {
   "cell_type": "code",
   "execution_count": 53,
   "id": "64e3ea52-98d8-49b8-a3b1-980248160cbd",
   "metadata": {},
   "outputs": [],
   "source": [
    "dataset = PyGDataset(datasource, in_memory=False)"
   ]
  },
  {
   "cell_type": "code",
   "execution_count": 54,
   "id": "c6ea12ac-cb58-40af-99cc-8d408f461858",
   "metadata": {},
   "outputs": [
    {
     "data": {
      "text/plain": [
       "Data(y=-1276.332763671875, pos=[37, 3], z=[37], forces=[37, 3], H=[378, 378])"
      ]
     },
     "execution_count": 54,
     "metadata": {},
     "output_type": "execute_result"
    }
   ],
   "source": [
    "dataset[0]"
   ]
  },
  {
   "cell_type": "code",
   "execution_count": 55,
   "id": "fe5b34ab-2057-4e69-bced-36555ca6b247",
   "metadata": {},
   "outputs": [],
   "source": [
    "dataloader = DataLoader(dataset, batch_size=4)"
   ]
  },
  {
   "cell_type": "code",
   "execution_count": 56,
   "id": "c96018d2-4406-4e74-8ea4-a5e26ea17a4b",
   "metadata": {},
   "outputs": [],
   "source": [
    "for batch in dataloader:\n",
    "    break"
   ]
  },
  {
   "cell_type": "code",
   "execution_count": 57,
   "id": "99988453-c0b7-490e-89e4-b1c126bc0381",
   "metadata": {},
   "outputs": [
    {
     "data": {
      "text/plain": [
       "DataBatch(y=[4], pos=[166, 3], z=[166], forces=[166, 3], batch=[166], ptr=[5], H=[4])"
      ]
     },
     "execution_count": 57,
     "metadata": {},
     "output_type": "execute_result"
    }
   ],
   "source": [
    "batch"
   ]
  },
  {
   "cell_type": "markdown",
   "id": "4fa01719-edbb-4ccc-b153-761e3568ad4a",
   "metadata": {},
   "source": [
    "# w/o keys_map with all keys"
   ]
  },
  {
   "cell_type": "code",
   "execution_count": null,
   "id": "9e693b68-79e5-4cd3-8070-675178f8af2f",
   "metadata": {},
   "outputs": [],
   "source": [
    "batch.__dict__.keys()"
   ]
  },
  {
   "cell_type": "code",
   "execution_count": 50,
   "id": "1f2973d4-13e7-4d51-854a-80479c53c019",
   "metadata": {},
   "outputs": [
    {
     "data": {
      "text/plain": [
       "dict_keys(['E', 'Z', 'R', 'F', 'H'])"
      ]
     },
     "execution_count": 50,
     "metadata": {},
     "output_type": "execute_result"
    }
   ],
   "source": [
    "batch.__dict__['_store'].keys()._keys()"
   ]
  },
  {
   "cell_type": "markdown",
   "id": "3594a2e6-8138-4e6f-835f-1c79c98a97b9",
   "metadata": {},
   "source": [
    "# with keys_map"
   ]
  },
  {
   "cell_type": "code",
   "execution_count": 58,
   "id": "ebfbf265-f5e6-4fd9-8a88-eeea7eff66cf",
   "metadata": {},
   "outputs": [
    {
     "data": {
      "text/plain": [
       "dict_keys(['_edge_attr_cls', '_tensor_attr_cls', '_store'])"
      ]
     },
     "execution_count": 58,
     "metadata": {},
     "output_type": "execute_result"
    }
   ],
   "source": [
    "batch.__dict__.keys()"
   ]
  },
  {
   "cell_type": "code",
   "execution_count": 59,
   "id": "2a226d01-62d4-4c74-86ce-8eb9ace97de6",
   "metadata": {},
   "outputs": [
    {
     "data": {
      "text/plain": [
       "dict_keys(['y', 'pos', 'z', 'forces', 'batch', 'ptr', 'H'])"
      ]
     },
     "execution_count": 59,
     "metadata": {},
     "output_type": "execute_result"
    }
   ],
   "source": [
    "batch.__dict__['_store'].keys()._keys()"
   ]
  },
  {
   "cell_type": "code",
   "execution_count": null,
   "id": "28bd8d85-f0d3-4605-8e2b-b16eef4bf5d0",
   "metadata": {},
   "outputs": [],
   "source": []
  }
 ],
 "metadata": {
  "kernelspec": {
   "display_name": "Python 3 (ipykernel)",
   "language": "python",
   "name": "python3"
  },
  "language_info": {
   "codemirror_mode": {
    "name": "ipython",
    "version": 3
   },
   "file_extension": ".py",
   "mimetype": "text/x-python",
   "name": "python",
   "nbconvert_exporter": "python",
   "pygments_lexer": "ipython3",
   "version": "3.9.20"
  }
 },
 "nbformat": 4,
 "nbformat_minor": 5
}
